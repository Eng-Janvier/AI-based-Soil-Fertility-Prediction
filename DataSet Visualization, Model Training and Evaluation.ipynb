{
 "cells": [
  {
   "cell_type": "markdown",
   "metadata": {},
   "source": [
    "# Employing Machine Learning Model for Soil Fertility Prediction\n",
    "     By Eng NIYITEGEKA Janvier\n",
    "     Email: nijas2012@yahoo.com\n",
    "            \n",
    "     Assistant Lecturer/RP/IPRC TUMBA"
   ]
  },
  {
   "cell_type": "markdown",
   "metadata": {},
   "source": [
    "The dataset used in this research is accessible online and has been prepared by the Africa Soil Information Service (AfSIS) in their project dated from 2009 up two 2012. The dataset contains 3594 inputs (features) which include various soil mid-infrared absorbance capacity measured by using spectroscopy and spatial data collected by remote sensing data source (Satellite). The response or targeted values involve Calcium Ca,Phosphorous P and pH level. "
   ]
  },
  {
   "cell_type": "markdown",
   "metadata": {},
   "source": [
    "Let import python packages to be used througout the notebook"
   ]
  },
  {
   "cell_type": "code",
   "execution_count": 200,
   "metadata": {},
   "outputs": [],
   "source": [
    "import torch\n",
    "import pandas as pd\n",
    "import matplotlib.pyplot as plt\n",
    "import numpy as np\n",
    "import torchvision\n",
    "from torchvision.datasets.utils import download_url\n",
    "from torch.utils.data import TensorDataset,DataLoader,random_split\n",
    "import torch.nn as nn\n",
    "import torch.nn.functional as F"
   ]
  },
  {
   "cell_type": "markdown",
   "metadata": {},
   "source": [
    "# I. Exploring data using pandas and numpy packages"
   ]
  },
  {
   "cell_type": "code",
   "execution_count": 201,
   "metadata": {},
   "outputs": [],
   "source": [
    "df=pd.read_csv('Soil_data.csv')"
   ]
  },
  {
   "cell_type": "code",
   "execution_count": 202,
   "metadata": {},
   "outputs": [
    {
     "data": {
      "text/html": [
       "<div>\n",
       "<style scoped>\n",
       "    .dataframe tbody tr th:only-of-type {\n",
       "        vertical-align: middle;\n",
       "    }\n",
       "\n",
       "    .dataframe tbody tr th {\n",
       "        vertical-align: top;\n",
       "    }\n",
       "\n",
       "    .dataframe thead th {\n",
       "        text-align: right;\n",
       "    }\n",
       "</style>\n",
       "<table border=\"1\" class=\"dataframe\">\n",
       "  <thead>\n",
       "    <tr style=\"text-align: right;\">\n",
       "      <th></th>\n",
       "      <th>PIDN</th>\n",
       "      <th>m7497.96</th>\n",
       "      <th>m7496.04</th>\n",
       "      <th>m7494.11</th>\n",
       "      <th>m7492.18</th>\n",
       "      <th>m7490.25</th>\n",
       "      <th>m7488.32</th>\n",
       "      <th>m7486.39</th>\n",
       "      <th>m7484.46</th>\n",
       "      <th>m7482.54</th>\n",
       "      <th>...</th>\n",
       "      <th>REF2</th>\n",
       "      <th>REF3</th>\n",
       "      <th>REF7</th>\n",
       "      <th>RELI</th>\n",
       "      <th>TMAP</th>\n",
       "      <th>TMFI</th>\n",
       "      <th>Depth</th>\n",
       "      <th>Ca</th>\n",
       "      <th>P</th>\n",
       "      <th>pH</th>\n",
       "    </tr>\n",
       "  </thead>\n",
       "  <tbody>\n",
       "    <tr>\n",
       "      <th>0</th>\n",
       "      <td>XNhoFZW5</td>\n",
       "      <td>0.302553</td>\n",
       "      <td>0.301137</td>\n",
       "      <td>0.299748</td>\n",
       "      <td>0.300354</td>\n",
       "      <td>0.302679</td>\n",
       "      <td>0.303799</td>\n",
       "      <td>0.301702</td>\n",
       "      <td>0.298936</td>\n",
       "      <td>0.298126</td>\n",
       "      <td>...</td>\n",
       "      <td>-0.537106</td>\n",
       "      <td>-0.722567</td>\n",
       "      <td>-0.646673</td>\n",
       "      <td>1.687734</td>\n",
       "      <td>0.190708</td>\n",
       "      <td>0.056843</td>\n",
       "      <td>0</td>\n",
       "      <td>-0.295749</td>\n",
       "      <td>-0.041336</td>\n",
       "      <td>-1.129366</td>\n",
       "    </tr>\n",
       "    <tr>\n",
       "      <th>1</th>\n",
       "      <td>9XNspFTd</td>\n",
       "      <td>0.270192</td>\n",
       "      <td>0.268555</td>\n",
       "      <td>0.266964</td>\n",
       "      <td>0.267938</td>\n",
       "      <td>0.271013</td>\n",
       "      <td>0.272346</td>\n",
       "      <td>0.269870</td>\n",
       "      <td>0.266976</td>\n",
       "      <td>0.266544</td>\n",
       "      <td>...</td>\n",
       "      <td>-0.537106</td>\n",
       "      <td>-0.722567</td>\n",
       "      <td>-0.646673</td>\n",
       "      <td>1.687734</td>\n",
       "      <td>0.190708</td>\n",
       "      <td>0.056843</td>\n",
       "      <td>1</td>\n",
       "      <td>-0.387442</td>\n",
       "      <td>-0.231552</td>\n",
       "      <td>-1.531538</td>\n",
       "    </tr>\n",
       "    <tr>\n",
       "      <th>2</th>\n",
       "      <td>WDId41qG</td>\n",
       "      <td>0.317433</td>\n",
       "      <td>0.316265</td>\n",
       "      <td>0.314948</td>\n",
       "      <td>0.315224</td>\n",
       "      <td>0.316942</td>\n",
       "      <td>0.317764</td>\n",
       "      <td>0.316067</td>\n",
       "      <td>0.313874</td>\n",
       "      <td>0.313301</td>\n",
       "      <td>...</td>\n",
       "      <td>-0.631725</td>\n",
       "      <td>-0.832298</td>\n",
       "      <td>-0.814516</td>\n",
       "      <td>1.806660</td>\n",
       "      <td>0.190708</td>\n",
       "      <td>0.056843</td>\n",
       "      <td>0</td>\n",
       "      <td>-0.248601</td>\n",
       "      <td>-0.224635</td>\n",
       "      <td>-0.259551</td>\n",
       "    </tr>\n",
       "    <tr>\n",
       "      <th>3</th>\n",
       "      <td>JrrJf1mN</td>\n",
       "      <td>0.261116</td>\n",
       "      <td>0.259767</td>\n",
       "      <td>0.258384</td>\n",
       "      <td>0.259001</td>\n",
       "      <td>0.261310</td>\n",
       "      <td>0.262417</td>\n",
       "      <td>0.260534</td>\n",
       "      <td>0.258039</td>\n",
       "      <td>0.257246</td>\n",
       "      <td>...</td>\n",
       "      <td>-0.631725</td>\n",
       "      <td>-0.832298</td>\n",
       "      <td>-0.814516</td>\n",
       "      <td>1.806660</td>\n",
       "      <td>0.190708</td>\n",
       "      <td>0.056843</td>\n",
       "      <td>1</td>\n",
       "      <td>-0.332195</td>\n",
       "      <td>-0.318014</td>\n",
       "      <td>-0.577548</td>\n",
       "    </tr>\n",
       "    <tr>\n",
       "      <th>4</th>\n",
       "      <td>ZoIitegA</td>\n",
       "      <td>0.260038</td>\n",
       "      <td>0.258425</td>\n",
       "      <td>0.256544</td>\n",
       "      <td>0.257030</td>\n",
       "      <td>0.259602</td>\n",
       "      <td>0.260786</td>\n",
       "      <td>0.258717</td>\n",
       "      <td>0.256352</td>\n",
       "      <td>0.255902</td>\n",
       "      <td>...</td>\n",
       "      <td>-0.528757</td>\n",
       "      <td>-0.795031</td>\n",
       "      <td>-0.780242</td>\n",
       "      <td>0.430513</td>\n",
       "      <td>0.190708</td>\n",
       "      <td>0.056843</td>\n",
       "      <td>0</td>\n",
       "      <td>-0.438350</td>\n",
       "      <td>-0.010210</td>\n",
       "      <td>-0.699135</td>\n",
       "    </tr>\n",
       "  </tbody>\n",
       "</table>\n",
       "<p>5 rows × 3598 columns</p>\n",
       "</div>"
      ],
      "text/plain": [
       "       PIDN  m7497.96  m7496.04  m7494.11  m7492.18  m7490.25  m7488.32  \\\n",
       "0  XNhoFZW5  0.302553  0.301137  0.299748  0.300354  0.302679  0.303799   \n",
       "1  9XNspFTd  0.270192  0.268555  0.266964  0.267938  0.271013  0.272346   \n",
       "2  WDId41qG  0.317433  0.316265  0.314948  0.315224  0.316942  0.317764   \n",
       "3  JrrJf1mN  0.261116  0.259767  0.258384  0.259001  0.261310  0.262417   \n",
       "4  ZoIitegA  0.260038  0.258425  0.256544  0.257030  0.259602  0.260786   \n",
       "\n",
       "   m7486.39  m7484.46  m7482.54  ...      REF2      REF3      REF7      RELI  \\\n",
       "0  0.301702  0.298936  0.298126  ... -0.537106 -0.722567 -0.646673  1.687734   \n",
       "1  0.269870  0.266976  0.266544  ... -0.537106 -0.722567 -0.646673  1.687734   \n",
       "2  0.316067  0.313874  0.313301  ... -0.631725 -0.832298 -0.814516  1.806660   \n",
       "3  0.260534  0.258039  0.257246  ... -0.631725 -0.832298 -0.814516  1.806660   \n",
       "4  0.258717  0.256352  0.255902  ... -0.528757 -0.795031 -0.780242  0.430513   \n",
       "\n",
       "       TMAP      TMFI  Depth        Ca         P        pH  \n",
       "0  0.190708  0.056843      0 -0.295749 -0.041336 -1.129366  \n",
       "1  0.190708  0.056843      1 -0.387442 -0.231552 -1.531538  \n",
       "2  0.190708  0.056843      0 -0.248601 -0.224635 -0.259551  \n",
       "3  0.190708  0.056843      1 -0.332195 -0.318014 -0.577548  \n",
       "4  0.190708  0.056843      0 -0.438350 -0.010210 -0.699135  \n",
       "\n",
       "[5 rows x 3598 columns]"
      ]
     },
     "execution_count": 202,
     "metadata": {},
     "output_type": "execute_result"
    }
   ],
   "source": [
    "df.head()"
   ]
  },
  {
   "cell_type": "markdown",
   "metadata": {},
   "source": [
    "As the 'PIDN' column contains only uniqueness data we can remove it from the training dataset"
   ]
  },
  {
   "cell_type": "code",
   "execution_count": 203,
   "metadata": {},
   "outputs": [],
   "source": [
    "df=df.drop(columns=['PIDN'],axis=1)"
   ]
  },
  {
   "cell_type": "code",
   "execution_count": 204,
   "metadata": {},
   "outputs": [
    {
     "data": {
      "text/html": [
       "<div>\n",
       "<style scoped>\n",
       "    .dataframe tbody tr th:only-of-type {\n",
       "        vertical-align: middle;\n",
       "    }\n",
       "\n",
       "    .dataframe tbody tr th {\n",
       "        vertical-align: top;\n",
       "    }\n",
       "\n",
       "    .dataframe thead th {\n",
       "        text-align: right;\n",
       "    }\n",
       "</style>\n",
       "<table border=\"1\" class=\"dataframe\">\n",
       "  <thead>\n",
       "    <tr style=\"text-align: right;\">\n",
       "      <th></th>\n",
       "      <th>m7497.96</th>\n",
       "      <th>m7496.04</th>\n",
       "      <th>m7494.11</th>\n",
       "      <th>m7492.18</th>\n",
       "      <th>m7490.25</th>\n",
       "      <th>m7488.32</th>\n",
       "      <th>m7486.39</th>\n",
       "      <th>m7484.46</th>\n",
       "      <th>m7482.54</th>\n",
       "      <th>m7480.61</th>\n",
       "      <th>...</th>\n",
       "      <th>REF2</th>\n",
       "      <th>REF3</th>\n",
       "      <th>REF7</th>\n",
       "      <th>RELI</th>\n",
       "      <th>TMAP</th>\n",
       "      <th>TMFI</th>\n",
       "      <th>Depth</th>\n",
       "      <th>Ca</th>\n",
       "      <th>P</th>\n",
       "      <th>pH</th>\n",
       "    </tr>\n",
       "  </thead>\n",
       "  <tbody>\n",
       "    <tr>\n",
       "      <th>0</th>\n",
       "      <td>0.302553</td>\n",
       "      <td>0.301137</td>\n",
       "      <td>0.299748</td>\n",
       "      <td>0.300354</td>\n",
       "      <td>0.302679</td>\n",
       "      <td>0.303799</td>\n",
       "      <td>0.301702</td>\n",
       "      <td>0.298936</td>\n",
       "      <td>0.298126</td>\n",
       "      <td>0.298120</td>\n",
       "      <td>...</td>\n",
       "      <td>-0.537106</td>\n",
       "      <td>-0.722567</td>\n",
       "      <td>-0.646673</td>\n",
       "      <td>1.687734</td>\n",
       "      <td>0.190708</td>\n",
       "      <td>0.056843</td>\n",
       "      <td>0</td>\n",
       "      <td>-0.295749</td>\n",
       "      <td>-0.041336</td>\n",
       "      <td>-1.129366</td>\n",
       "    </tr>\n",
       "    <tr>\n",
       "      <th>1</th>\n",
       "      <td>0.270192</td>\n",
       "      <td>0.268555</td>\n",
       "      <td>0.266964</td>\n",
       "      <td>0.267938</td>\n",
       "      <td>0.271013</td>\n",
       "      <td>0.272346</td>\n",
       "      <td>0.269870</td>\n",
       "      <td>0.266976</td>\n",
       "      <td>0.266544</td>\n",
       "      <td>0.266766</td>\n",
       "      <td>...</td>\n",
       "      <td>-0.537106</td>\n",
       "      <td>-0.722567</td>\n",
       "      <td>-0.646673</td>\n",
       "      <td>1.687734</td>\n",
       "      <td>0.190708</td>\n",
       "      <td>0.056843</td>\n",
       "      <td>1</td>\n",
       "      <td>-0.387442</td>\n",
       "      <td>-0.231552</td>\n",
       "      <td>-1.531538</td>\n",
       "    </tr>\n",
       "    <tr>\n",
       "      <th>2</th>\n",
       "      <td>0.317433</td>\n",
       "      <td>0.316265</td>\n",
       "      <td>0.314948</td>\n",
       "      <td>0.315224</td>\n",
       "      <td>0.316942</td>\n",
       "      <td>0.317764</td>\n",
       "      <td>0.316067</td>\n",
       "      <td>0.313874</td>\n",
       "      <td>0.313301</td>\n",
       "      <td>0.313296</td>\n",
       "      <td>...</td>\n",
       "      <td>-0.631725</td>\n",
       "      <td>-0.832298</td>\n",
       "      <td>-0.814516</td>\n",
       "      <td>1.806660</td>\n",
       "      <td>0.190708</td>\n",
       "      <td>0.056843</td>\n",
       "      <td>0</td>\n",
       "      <td>-0.248601</td>\n",
       "      <td>-0.224635</td>\n",
       "      <td>-0.259551</td>\n",
       "    </tr>\n",
       "    <tr>\n",
       "      <th>3</th>\n",
       "      <td>0.261116</td>\n",
       "      <td>0.259767</td>\n",
       "      <td>0.258384</td>\n",
       "      <td>0.259001</td>\n",
       "      <td>0.261310</td>\n",
       "      <td>0.262417</td>\n",
       "      <td>0.260534</td>\n",
       "      <td>0.258039</td>\n",
       "      <td>0.257246</td>\n",
       "      <td>0.257124</td>\n",
       "      <td>...</td>\n",
       "      <td>-0.631725</td>\n",
       "      <td>-0.832298</td>\n",
       "      <td>-0.814516</td>\n",
       "      <td>1.806660</td>\n",
       "      <td>0.190708</td>\n",
       "      <td>0.056843</td>\n",
       "      <td>1</td>\n",
       "      <td>-0.332195</td>\n",
       "      <td>-0.318014</td>\n",
       "      <td>-0.577548</td>\n",
       "    </tr>\n",
       "    <tr>\n",
       "      <th>4</th>\n",
       "      <td>0.260038</td>\n",
       "      <td>0.258425</td>\n",
       "      <td>0.256544</td>\n",
       "      <td>0.257030</td>\n",
       "      <td>0.259602</td>\n",
       "      <td>0.260786</td>\n",
       "      <td>0.258717</td>\n",
       "      <td>0.256352</td>\n",
       "      <td>0.255902</td>\n",
       "      <td>0.255822</td>\n",
       "      <td>...</td>\n",
       "      <td>-0.528757</td>\n",
       "      <td>-0.795031</td>\n",
       "      <td>-0.780242</td>\n",
       "      <td>0.430513</td>\n",
       "      <td>0.190708</td>\n",
       "      <td>0.056843</td>\n",
       "      <td>0</td>\n",
       "      <td>-0.438350</td>\n",
       "      <td>-0.010210</td>\n",
       "      <td>-0.699135</td>\n",
       "    </tr>\n",
       "  </tbody>\n",
       "</table>\n",
       "<p>5 rows × 3597 columns</p>\n",
       "</div>"
      ],
      "text/plain": [
       "   m7497.96  m7496.04  m7494.11  m7492.18  m7490.25  m7488.32  m7486.39  \\\n",
       "0  0.302553  0.301137  0.299748  0.300354  0.302679  0.303799  0.301702   \n",
       "1  0.270192  0.268555  0.266964  0.267938  0.271013  0.272346  0.269870   \n",
       "2  0.317433  0.316265  0.314948  0.315224  0.316942  0.317764  0.316067   \n",
       "3  0.261116  0.259767  0.258384  0.259001  0.261310  0.262417  0.260534   \n",
       "4  0.260038  0.258425  0.256544  0.257030  0.259602  0.260786  0.258717   \n",
       "\n",
       "   m7484.46  m7482.54  m7480.61  ...      REF2      REF3      REF7      RELI  \\\n",
       "0  0.298936  0.298126  0.298120  ... -0.537106 -0.722567 -0.646673  1.687734   \n",
       "1  0.266976  0.266544  0.266766  ... -0.537106 -0.722567 -0.646673  1.687734   \n",
       "2  0.313874  0.313301  0.313296  ... -0.631725 -0.832298 -0.814516  1.806660   \n",
       "3  0.258039  0.257246  0.257124  ... -0.631725 -0.832298 -0.814516  1.806660   \n",
       "4  0.256352  0.255902  0.255822  ... -0.528757 -0.795031 -0.780242  0.430513   \n",
       "\n",
       "       TMAP      TMFI  Depth        Ca         P        pH  \n",
       "0  0.190708  0.056843      0 -0.295749 -0.041336 -1.129366  \n",
       "1  0.190708  0.056843      1 -0.387442 -0.231552 -1.531538  \n",
       "2  0.190708  0.056843      0 -0.248601 -0.224635 -0.259551  \n",
       "3  0.190708  0.056843      1 -0.332195 -0.318014 -0.577548  \n",
       "4  0.190708  0.056843      0 -0.438350 -0.010210 -0.699135  \n",
       "\n",
       "[5 rows x 3597 columns]"
      ]
     },
     "execution_count": 204,
     "metadata": {},
     "output_type": "execute_result"
    }
   ],
   "source": [
    "df.head()"
   ]
  },
  {
   "cell_type": "code",
   "execution_count": 205,
   "metadata": {},
   "outputs": [
    {
     "name": "stdout",
     "output_type": "stream",
     "text": [
      "<class 'pandas.core.frame.DataFrame'>\n",
      "RangeIndex: 1157 entries, 0 to 1156\n",
      "Columns: 3597 entries, m7497.96 to pH\n",
      "dtypes: float64(3596), int64(1)\n",
      "memory usage: 31.8 MB\n"
     ]
    }
   ],
   "source": [
    "df.info()"
   ]
  },
  {
   "cell_type": "markdown",
   "metadata": {},
   "source": [
    "dataset contains 1157 rows with index ranges from 0 to 1156 and 3597 columns with 3594 training inputs columns and 3 outputs targets columns"
   ]
  },
  {
   "cell_type": "markdown",
   "metadata": {},
   "source": [
    "Let create the training input dataset by removing all targets columns(calcium Ca Phosphorous P and pH level)"
   ]
  },
  {
   "cell_type": "code",
   "execution_count": 206,
   "metadata": {},
   "outputs": [],
   "source": [
    "inputs_data=df.drop(columns=['Ca','P','pH'],axis=1)"
   ]
  },
  {
   "cell_type": "code",
   "execution_count": 207,
   "metadata": {},
   "outputs": [
    {
     "data": {
      "text/html": [
       "<div>\n",
       "<style scoped>\n",
       "    .dataframe tbody tr th:only-of-type {\n",
       "        vertical-align: middle;\n",
       "    }\n",
       "\n",
       "    .dataframe tbody tr th {\n",
       "        vertical-align: top;\n",
       "    }\n",
       "\n",
       "    .dataframe thead th {\n",
       "        text-align: right;\n",
       "    }\n",
       "</style>\n",
       "<table border=\"1\" class=\"dataframe\">\n",
       "  <thead>\n",
       "    <tr style=\"text-align: right;\">\n",
       "      <th></th>\n",
       "      <th>m7497.96</th>\n",
       "      <th>m7496.04</th>\n",
       "      <th>m7494.11</th>\n",
       "      <th>m7492.18</th>\n",
       "      <th>m7490.25</th>\n",
       "      <th>m7488.32</th>\n",
       "      <th>m7486.39</th>\n",
       "      <th>m7484.46</th>\n",
       "      <th>m7482.54</th>\n",
       "      <th>m7480.61</th>\n",
       "      <th>...</th>\n",
       "      <th>LSTD</th>\n",
       "      <th>LSTN</th>\n",
       "      <th>REF1</th>\n",
       "      <th>REF2</th>\n",
       "      <th>REF3</th>\n",
       "      <th>REF7</th>\n",
       "      <th>RELI</th>\n",
       "      <th>TMAP</th>\n",
       "      <th>TMFI</th>\n",
       "      <th>Depth</th>\n",
       "    </tr>\n",
       "  </thead>\n",
       "  <tbody>\n",
       "    <tr>\n",
       "      <th>0</th>\n",
       "      <td>0.302553</td>\n",
       "      <td>0.301137</td>\n",
       "      <td>0.299748</td>\n",
       "      <td>0.300354</td>\n",
       "      <td>0.302679</td>\n",
       "      <td>0.303799</td>\n",
       "      <td>0.301702</td>\n",
       "      <td>0.298936</td>\n",
       "      <td>0.298126</td>\n",
       "      <td>0.298120</td>\n",
       "      <td>...</td>\n",
       "      <td>-0.716713</td>\n",
       "      <td>-0.090016</td>\n",
       "      <td>-0.861091</td>\n",
       "      <td>-0.537106</td>\n",
       "      <td>-0.722567</td>\n",
       "      <td>-0.646673</td>\n",
       "      <td>1.687734</td>\n",
       "      <td>0.190708</td>\n",
       "      <td>0.056843</td>\n",
       "      <td>0</td>\n",
       "    </tr>\n",
       "    <tr>\n",
       "      <th>1</th>\n",
       "      <td>0.270192</td>\n",
       "      <td>0.268555</td>\n",
       "      <td>0.266964</td>\n",
       "      <td>0.267938</td>\n",
       "      <td>0.271013</td>\n",
       "      <td>0.272346</td>\n",
       "      <td>0.269870</td>\n",
       "      <td>0.266976</td>\n",
       "      <td>0.266544</td>\n",
       "      <td>0.266766</td>\n",
       "      <td>...</td>\n",
       "      <td>-0.716713</td>\n",
       "      <td>-0.090016</td>\n",
       "      <td>-0.861091</td>\n",
       "      <td>-0.537106</td>\n",
       "      <td>-0.722567</td>\n",
       "      <td>-0.646673</td>\n",
       "      <td>1.687734</td>\n",
       "      <td>0.190708</td>\n",
       "      <td>0.056843</td>\n",
       "      <td>1</td>\n",
       "    </tr>\n",
       "    <tr>\n",
       "      <th>2</th>\n",
       "      <td>0.317433</td>\n",
       "      <td>0.316265</td>\n",
       "      <td>0.314948</td>\n",
       "      <td>0.315224</td>\n",
       "      <td>0.316942</td>\n",
       "      <td>0.317764</td>\n",
       "      <td>0.316067</td>\n",
       "      <td>0.313874</td>\n",
       "      <td>0.313301</td>\n",
       "      <td>0.313296</td>\n",
       "      <td>...</td>\n",
       "      <td>-1.282552</td>\n",
       "      <td>-0.088336</td>\n",
       "      <td>-0.935273</td>\n",
       "      <td>-0.631725</td>\n",
       "      <td>-0.832298</td>\n",
       "      <td>-0.814516</td>\n",
       "      <td>1.806660</td>\n",
       "      <td>0.190708</td>\n",
       "      <td>0.056843</td>\n",
       "      <td>0</td>\n",
       "    </tr>\n",
       "    <tr>\n",
       "      <th>3</th>\n",
       "      <td>0.261116</td>\n",
       "      <td>0.259767</td>\n",
       "      <td>0.258384</td>\n",
       "      <td>0.259001</td>\n",
       "      <td>0.261310</td>\n",
       "      <td>0.262417</td>\n",
       "      <td>0.260534</td>\n",
       "      <td>0.258039</td>\n",
       "      <td>0.257246</td>\n",
       "      <td>0.257124</td>\n",
       "      <td>...</td>\n",
       "      <td>-1.282552</td>\n",
       "      <td>-0.088336</td>\n",
       "      <td>-0.935273</td>\n",
       "      <td>-0.631725</td>\n",
       "      <td>-0.832298</td>\n",
       "      <td>-0.814516</td>\n",
       "      <td>1.806660</td>\n",
       "      <td>0.190708</td>\n",
       "      <td>0.056843</td>\n",
       "      <td>1</td>\n",
       "    </tr>\n",
       "    <tr>\n",
       "      <th>4</th>\n",
       "      <td>0.260038</td>\n",
       "      <td>0.258425</td>\n",
       "      <td>0.256544</td>\n",
       "      <td>0.257030</td>\n",
       "      <td>0.259602</td>\n",
       "      <td>0.260786</td>\n",
       "      <td>0.258717</td>\n",
       "      <td>0.256352</td>\n",
       "      <td>0.255902</td>\n",
       "      <td>0.255822</td>\n",
       "      <td>...</td>\n",
       "      <td>-1.206971</td>\n",
       "      <td>0.011420</td>\n",
       "      <td>-0.906182</td>\n",
       "      <td>-0.528757</td>\n",
       "      <td>-0.795031</td>\n",
       "      <td>-0.780242</td>\n",
       "      <td>0.430513</td>\n",
       "      <td>0.190708</td>\n",
       "      <td>0.056843</td>\n",
       "      <td>0</td>\n",
       "    </tr>\n",
       "  </tbody>\n",
       "</table>\n",
       "<p>5 rows × 3594 columns</p>\n",
       "</div>"
      ],
      "text/plain": [
       "   m7497.96  m7496.04  m7494.11  m7492.18  m7490.25  m7488.32  m7486.39  \\\n",
       "0  0.302553  0.301137  0.299748  0.300354  0.302679  0.303799  0.301702   \n",
       "1  0.270192  0.268555  0.266964  0.267938  0.271013  0.272346  0.269870   \n",
       "2  0.317433  0.316265  0.314948  0.315224  0.316942  0.317764  0.316067   \n",
       "3  0.261116  0.259767  0.258384  0.259001  0.261310  0.262417  0.260534   \n",
       "4  0.260038  0.258425  0.256544  0.257030  0.259602  0.260786  0.258717   \n",
       "\n",
       "   m7484.46  m7482.54  m7480.61  ...      LSTD      LSTN      REF1      REF2  \\\n",
       "0  0.298936  0.298126  0.298120  ... -0.716713 -0.090016 -0.861091 -0.537106   \n",
       "1  0.266976  0.266544  0.266766  ... -0.716713 -0.090016 -0.861091 -0.537106   \n",
       "2  0.313874  0.313301  0.313296  ... -1.282552 -0.088336 -0.935273 -0.631725   \n",
       "3  0.258039  0.257246  0.257124  ... -1.282552 -0.088336 -0.935273 -0.631725   \n",
       "4  0.256352  0.255902  0.255822  ... -1.206971  0.011420 -0.906182 -0.528757   \n",
       "\n",
       "       REF3      REF7      RELI      TMAP      TMFI  Depth  \n",
       "0 -0.722567 -0.646673  1.687734  0.190708  0.056843      0  \n",
       "1 -0.722567 -0.646673  1.687734  0.190708  0.056843      1  \n",
       "2 -0.832298 -0.814516  1.806660  0.190708  0.056843      0  \n",
       "3 -0.832298 -0.814516  1.806660  0.190708  0.056843      1  \n",
       "4 -0.795031 -0.780242  0.430513  0.190708  0.056843      0  \n",
       "\n",
       "[5 rows x 3594 columns]"
      ]
     },
     "execution_count": 207,
     "metadata": {},
     "output_type": "execute_result"
    }
   ],
   "source": [
    "inputs_data.head()"
   ]
  },
  {
   "cell_type": "markdown",
   "metadata": {},
   "source": [
    "Creating targets variables. The following code generate phosphorus,potasium and calcium variables targets and check their corresponded shape"
   ]
  },
  {
   "cell_type": "code",
   "execution_count": 208,
   "metadata": {},
   "outputs": [
    {
     "data": {
      "text/plain": [
       "((1157, 1), (1157, 1), (1157, 1))"
      ]
     },
     "execution_count": 208,
     "metadata": {},
     "output_type": "execute_result"
    }
   ],
   "source": [
    "ph_y=df[['pH']]\n",
    "p_y=df[['P']]\n",
    "ca_y=df[['Ca']]\n",
    "ph_y.shape,p_y.shape,ca_y.shape"
   ]
  },
  {
   "cell_type": "code",
   "execution_count": 209,
   "metadata": {},
   "outputs": [
    {
     "data": {
      "text/plain": [
       "array([[-0.29574924],\n",
       "       [-0.38744188],\n",
       "       [-0.24860129],\n",
       "       ...,\n",
       "       [-0.44644913],\n",
       "       [-0.49301858],\n",
       "       [-0.20897388]])"
      ]
     },
     "execution_count": 209,
     "metadata": {},
     "output_type": "execute_result"
    }
   ],
   "source": [
    "ca_y.to_numpy()"
   ]
  },
  {
   "cell_type": "markdown",
   "metadata": {},
   "source": [
    "Throughout this notebook we are going to use PyTorch python package to implement a Neural Network model to predict calcium, potassiumand phosphorus quantinty contained in the given soil data."
   ]
  },
  {
   "cell_type": "markdown",
   "metadata": {},
   "source": [
    "However, PyTorch deals only with tensors. then we need to convert the given pandasdaframe tensors via numpy data.So the following code converts the data into numpy data to be converted next into tensors"
   ]
  },
  {
   "cell_type": "markdown",
   "metadata": {},
   "source": [
    "The PyTorch is an open source neural networks library developed by facebook for implementing Deep learning framework"
   ]
  },
  {
   "cell_type": "markdown",
   "metadata": {},
   "source": [
    "Converting inputs data into numpy data"
   ]
  },
  {
   "cell_type": "code",
   "execution_count": 210,
   "metadata": {},
   "outputs": [
    {
     "data": {
      "text/plain": [
       "array([[0.302553  , 0.301137  , 0.299748  , ..., 0.19070813, 0.0568427 ,\n",
       "        0.        ],\n",
       "       [0.270192  , 0.268555  , 0.266964  , ..., 0.19070813, 0.0568427 ,\n",
       "        1.        ],\n",
       "       [0.317433  , 0.316265  , 0.314948  , ..., 0.19070813, 0.0568427 ,\n",
       "        0.        ],\n",
       "       ...,\n",
       "       [0.146829  , 0.139909  , 0.133845  , ..., 1.53920841, 1.61802173,\n",
       "        0.        ],\n",
       "       [0.09191   , 0.0844446 , 0.0779918 , ..., 1.53920841, 1.61802173,\n",
       "        1.        ],\n",
       "       [0.471388  , 0.464764  , 0.459496  , ..., 1.53920841, 1.61802173,\n",
       "        0.        ]])"
      ]
     },
     "execution_count": 210,
     "metadata": {},
     "output_type": "execute_result"
    }
   ],
   "source": [
    "inputs_array = inputs_data.to_numpy()\n",
    "inputs_array"
   ]
  },
  {
   "cell_type": "markdown",
   "metadata": {},
   "source": [
    "Converting Targets variable into numpy data"
   ]
  },
  {
   "cell_type": "code",
   "execution_count": 211,
   "metadata": {},
   "outputs": [],
   "source": [
    "targets_ca_array =ca_y.to_numpy()\n",
    "targets_ph_array =ph_y.to_numpy()\n",
    "targets_p_array =p_y.to_numpy()"
   ]
  },
  {
   "cell_type": "code",
   "execution_count": 212,
   "metadata": {},
   "outputs": [
    {
     "data": {
      "text/plain": [
       "(array([[-0.29574924],\n",
       "        [-0.38744188],\n",
       "        [-0.24860129],\n",
       "        ...,\n",
       "        [-0.44644913],\n",
       "        [-0.49301858],\n",
       "        [-0.20897388]]),\n",
       " array([[-1.12936595],\n",
       "        [-1.53153828],\n",
       "        [-0.25955137],\n",
       "        ...,\n",
       "        [-0.40919689],\n",
       "        [-0.19408146],\n",
       "        [-0.54948957]]),\n",
       " array([[-0.04133638],\n",
       "        [-0.23155201],\n",
       "        [-0.22463507],\n",
       "        ...,\n",
       "        [-0.38026604],\n",
       "        [-0.41830917],\n",
       "        [-0.17967502]]))"
      ]
     },
     "execution_count": 212,
     "metadata": {},
     "output_type": "execute_result"
    }
   ],
   "source": [
    "targets_ca_array,targets_ph_array,targets_p_array"
   ]
  },
  {
   "cell_type": "markdown",
   "metadata": {},
   "source": [
    "Converting training inputs and corresponded targets into tensor data and then after check their type"
   ]
  },
  {
   "cell_type": "code",
   "execution_count": 213,
   "metadata": {},
   "outputs": [
    {
     "data": {
      "text/plain": [
       "(torch.float32, torch.float32, torch.float32, torch.float32)"
      ]
     },
     "execution_count": 213,
     "metadata": {},
     "output_type": "execute_result"
    }
   ],
   "source": [
    "inputs = torch.tensor(inputs_array,dtype=torch.float32)\n",
    "ca_targets = torch.tensor(targets_ca_array,dtype=torch.float32)\n",
    "ph_targets = torch.tensor(targets_ph_array,dtype=torch.float32)\n",
    "p_targets = torch.tensor(targets_p_array,dtype=torch.float32)\n",
    "\n",
    "\n",
    "inputs.dtype, ca_targets.dtype,ph_targets.dtype,p_targets.dtype\n"
   ]
  },
  {
   "cell_type": "markdown",
   "metadata": {},
   "source": [
    "Dividing the given dataset into three separate dataset using TensorDataset package fromPyTorch Class."
   ]
  },
  {
   "cell_type": "code",
   "execution_count": 214,
   "metadata": {},
   "outputs": [],
   "source": [
    "#Building Calcium dataset\n",
    "ca_dataset =TensorDataset(inputs,ca_targets)"
   ]
  },
  {
   "cell_type": "code",
   "execution_count": 215,
   "metadata": {},
   "outputs": [],
   "source": [
    "#Building pH level dataset\n",
    "ph_dataset =TensorDataset(inputs,ph_targets)"
   ]
  },
  {
   "cell_type": "code",
   "execution_count": 216,
   "metadata": {},
   "outputs": [],
   "source": [
    "#Building Phosphorous dataset\n",
    "p_dataset =TensorDataset(inputs,p_targets)"
   ]
  },
  {
   "cell_type": "markdown",
   "metadata": {},
   "source": [
    "Splitting the datasets into training and valiadation datasets using random_split package from PyTorch Class"
   ]
  },
  {
   "cell_type": "code",
   "execution_count": 217,
   "metadata": {},
   "outputs": [
    {
     "data": {
      "text/plain": [
       "1157"
      ]
     },
     "execution_count": 217,
     "metadata": {},
     "output_type": "execute_result"
    }
   ],
   "source": [
    "num_rows=len(df)\n",
    "num_rows"
   ]
  },
  {
   "cell_type": "code",
   "execution_count": 218,
   "metadata": {},
   "outputs": [],
   "source": [
    "val_percent = 0.25 # between 0.1 and 0.2\n",
    "val_size = int(num_rows * val_percent)\n",
    "train_size = num_rows - val_size"
   ]
  },
  {
   "cell_type": "code",
   "execution_count": 219,
   "metadata": {},
   "outputs": [],
   "source": [
    "#Calcium training and validation data\n",
    "train_ds_ca, val_ds_ca = random_split(ca_dataset,[train_size,val_size]) # Use the random_split function to split dataset into 2 parts of the desired length"
   ]
  },
  {
   "cell_type": "code",
   "execution_count": 220,
   "metadata": {},
   "outputs": [],
   "source": [
    "#Phosphorous training and validation data\n",
    "train_ds_p, val_ds_p = random_split(p_dataset,[train_size,val_size]) # Use the random_split function to split dataset into 2 parts of the desired length"
   ]
  },
  {
   "cell_type": "code",
   "execution_count": 221,
   "metadata": {},
   "outputs": [],
   "source": [
    "#pH Level training and validation data\n",
    "train_ds_ph, val_ds_ph = random_split(ph_dataset,[train_size,val_size]) # Use the random_split function to split dataset into 2 parts of the desired length"
   ]
  },
  {
   "cell_type": "markdown",
   "metadata": {},
   "source": [
    "Creating DataLoaders using DataLoader package from PyTorch Class. This might help to load data into batches for saving the memory usage"
   ]
  },
  {
   "cell_type": "code",
   "execution_count": 222,
   "metadata": {},
   "outputs": [],
   "source": [
    "batch_size = 100"
   ]
  },
  {
   "cell_type": "code",
   "execution_count": 223,
   "metadata": {},
   "outputs": [],
   "source": [
    "#Calcium dataloader\n",
    "train_loader_ca = DataLoader(train_ds_ca, batch_size, shuffle=True)\n",
    "val_loader_ca = DataLoader(val_ds_ca, batch_size)"
   ]
  },
  {
   "cell_type": "code",
   "execution_count": 224,
   "metadata": {},
   "outputs": [],
   "source": [
    "#Phosphorous dataloader\n",
    "train_loader_p = DataLoader(train_ds_p, batch_size, shuffle=True)\n",
    "val_loader_p = DataLoader(val_ds_p, batch_size)"
   ]
  },
  {
   "cell_type": "code",
   "execution_count": 225,
   "metadata": {},
   "outputs": [],
   "source": [
    "#pH level dataloader\n",
    "train_loader_ph = DataLoader(train_ds_ph, batch_size, shuffle=True)\n",
    "val_loader_ph = DataLoader(val_ds_ph, batch_size)"
   ]
  },
  {
   "cell_type": "markdown",
   "metadata": {},
   "source": [
    "Save notebook to jovian for allowing public to have access on it"
   ]
  },
  {
   "cell_type": "code",
   "execution_count": 226,
   "metadata": {},
   "outputs": [],
   "source": [
    "!pip install jovian --upgrade -q"
   ]
  },
  {
   "cell_type": "code",
   "execution_count": 227,
   "metadata": {},
   "outputs": [],
   "source": [
    "import jovian"
   ]
  },
  {
   "cell_type": "code",
   "execution_count": 228,
   "metadata": {},
   "outputs": [],
   "source": [
    "project_name = 'Soil Fertility Prediction By Janvier'"
   ]
  },
  {
   "cell_type": "code",
   "execution_count": 229,
   "metadata": {},
   "outputs": [
    {
     "data": {
      "application/javascript": [
       "window.require && require([\"base/js/namespace\"],function(Jupyter){Jupyter.notebook.save_checkpoint()})"
      ],
      "text/plain": [
       "<IPython.core.display.Javascript object>"
      ]
     },
     "metadata": {},
     "output_type": "display_data"
    },
    {
     "name": "stdout",
     "output_type": "stream",
     "text": [
      "[jovian] Attempting to save notebook..\n",
      "[jovian] Updating notebook \"njanvier/soil-fertility-prediction-by-janvier\" on https://jovian.ml/\n",
      "[jovian] Uploading notebook..\n",
      "[jovian] Capturing environment..\n",
      "[jovian] Committed successfully! https://jovian.ml/njanvier/soil-fertility-prediction-by-janvier\n"
     ]
    },
    {
     "data": {
      "text/plain": [
       "'https://jovian.ml/njanvier/soil-fertility-prediction-by-janvier'"
      ]
     },
     "execution_count": 229,
     "metadata": {},
     "output_type": "execute_result"
    }
   ],
   "source": [
    "jovian.commit(project=project_name)"
   ]
  },
  {
   "cell_type": "markdown",
   "metadata": {},
   "source": [
    "# START TRAINING NETWORK"
   ]
  },
  {
   "cell_type": "code",
   "execution_count": 230,
   "metadata": {},
   "outputs": [],
   "source": [
    "input_size = 3594\n",
    "output_size = 1"
   ]
  },
  {
   "cell_type": "markdown",
   "metadata": {},
   "source": [
    "Defining SoilModel Class and associated methods"
   ]
  },
  {
   "cell_type": "code",
   "execution_count": 333,
   "metadata": {},
   "outputs": [],
   "source": [
    "class SoilModel(nn.Module):\n",
    "    def __init__(self):\n",
    "        super().__init__()\n",
    "        self.linear1 = nn.Linear(input_size,output_size)\n",
    "        \n",
    "    def forward(self, xb):\n",
    "        out = self.linear1(xb)\n",
    "        return out\n",
    "    \n",
    "    def training_step(self, batch):\n",
    "        inputs, targets = batch \n",
    "        out = self(inputs)                 # Generate predictions\n",
    "        loss = F.mse_loss(out, targets)    # Calculate loss\n",
    "        return loss\n",
    "    \n",
    "    def validation_step(self, batch):\n",
    "        inputs, targets = batch \n",
    "        out = self(inputs)                 # Generate predictions\n",
    "        loss = F.mse_loss(out, targets)    # Calculate loss\n",
    "        return {'val_loss': loss.detach()}\n",
    "        \n",
    "    def validation_epoch_end(self, outputs):\n",
    "        batch_losses = [x['val_loss'] for x in outputs]\n",
    "        epoch_loss = torch.stack(batch_losses).mean()   # Combine losses\n",
    "        return {'val_loss': epoch_loss.item()}\n",
    "    \n",
    "    def epoch_end(self, epoch, result):\n",
    "        if epoch%50==0:\n",
    "            print(\"Epoch [{}], train_loss: {:.4f}, val_loss: {:.4f}\".format(epoch, result['train_loss'],result['val_loss']))\n",
    "    \n",
    "model = SoilModel()"
   ]
  },
  {
   "cell_type": "markdown",
   "metadata": {},
   "source": [
    "defining training and evaluation methods"
   ]
  },
  {
   "cell_type": "code",
   "execution_count": 334,
   "metadata": {},
   "outputs": [],
   "source": [
    "def evaluate(model, val_loader):\n",
    "    outputs = [model.validation_step(batch) for batch in val_loader]\n",
    "    return model.validation_epoch_end(outputs)\n",
    "\n",
    "def fit(epochs, lr, model, train_loader, val_loader, opt_func=torch.optim.Adam):\n",
    "    history = []\n",
    "    optimizer = opt_func(model.parameters(), lr)\n",
    "    train_loss = []\n",
    "    for epoch in range(epochs):\n",
    "        # Training Phase \n",
    "        for batch in train_loader:\n",
    "            loss = model.training_step(batch)\n",
    "            loss.backward()\n",
    "            optimizer.step()\n",
    "            optimizer.zero_grad()\n",
    "            train_loss.append(loss)\n",
    "        # Validation phase\n",
    "        result = evaluate(model, val_loader)\n",
    "        result['train_loss'] = torch.stack(train_loss).mean().item()\n",
    "        model.epoch_end(epoch, result)\n",
    "        history.append(result)\n",
    "    return history"
   ]
  },
  {
   "cell_type": "markdown",
   "metadata": {},
   "source": [
    "Start training model to predict Calcium quantity contained in the given samples"
   ]
  },
  {
   "cell_type": "code",
   "execution_count": 335,
   "metadata": {},
   "outputs": [
    {
     "data": {
      "text/plain": [
       "{'val_loss': 1.9260133504867554}"
      ]
     },
     "execution_count": 335,
     "metadata": {},
     "output_type": "execute_result"
    }
   ],
   "source": [
    "result = evaluate(model, val_loader_ca)\n",
    "result"
   ]
  },
  {
   "cell_type": "code",
   "execution_count": 336,
   "metadata": {},
   "outputs": [
    {
     "name": "stdout",
     "output_type": "stream",
     "text": [
      "Epoch [0], train_loss: 165.9518, val_loss: 156.9157\n",
      "Epoch [50], train_loss: 5.9853, val_loss: 0.5704\n",
      "Epoch [100], train_loss: 3.1449, val_loss: 0.2608\n",
      "Epoch [150], train_loss: 2.1683, val_loss: 0.3059\n",
      "Epoch [200], train_loss: 1.6954, val_loss: 0.2120\n",
      "Epoch [250], train_loss: 1.4465, val_loss: 0.1993\n",
      "Epoch [300], train_loss: 1.3085, val_loss: 0.3068\n",
      "Epoch [350], train_loss: 1.2015, val_loss: 1.1377\n",
      "Epoch [400], train_loss: 1.1199, val_loss: 1.6957\n",
      "Epoch [450], train_loss: 1.0597, val_loss: 1.7776\n",
      "Epoch [500], train_loss: 1.0220, val_loss: 0.1871\n",
      "Epoch [550], train_loss: 0.9723, val_loss: 1.9161\n",
      "Epoch [600], train_loss: 0.9378, val_loss: 0.4848\n",
      "Epoch [650], train_loss: 0.9092, val_loss: 0.4341\n",
      "Epoch [700], train_loss: 0.8843, val_loss: 0.4046\n",
      "Epoch [750], train_loss: 0.8717, val_loss: 0.3027\n",
      "Epoch [800], train_loss: 0.8467, val_loss: 2.0943\n",
      "Epoch [850], train_loss: 0.8319, val_loss: 0.9167\n",
      "Epoch [900], train_loss: 0.8154, val_loss: 0.3779\n",
      "Epoch [950], train_loss: 0.8002, val_loss: 0.1931\n"
     ]
    }
   ],
   "source": [
    "history1 = fit(1000, 0.01, model, train_loader_ca, val_loader_ca)"
   ]
  },
  {
   "cell_type": "code",
   "execution_count": 337,
   "metadata": {},
   "outputs": [
    {
     "data": {
      "text/plain": [
       "{'val_loss': 0.47536396980285645}"
      ]
     },
     "execution_count": 337,
     "metadata": {},
     "output_type": "execute_result"
    }
   ],
   "source": [
    "result = evaluate(model, val_loader_ca)\n",
    "result"
   ]
  },
  {
   "cell_type": "markdown",
   "metadata": {},
   "source": [
    "Plot Training graph of  Calcium"
   ]
  },
  {
   "cell_type": "code",
   "execution_count": 338,
   "metadata": {},
   "outputs": [
    {
     "data": {
      "image/png": "[encoded data removed]",
      "text/plain": [
       "<Figure size 432x288 with 1 Axes>"
      ]
     },
     "metadata": {
      "needs_background": "light"
     },
     "output_type": "display_data"
    }
   ],
   "source": [
    "losses = [r['val_loss'] for r in [result]+ history1]\n",
    "plt.plot(losses, '-x')\n",
    "plt.xlabel('epoch')\n",
    "plt.ylabel('val_loss')\n",
    "plt.title('val_loss vs. epochs');"
   ]
  },
  {
   "cell_type": "markdown",
   "metadata": {},
   "source": [
    "Start training model to predict Phosphorous quantity contained in the given samples"
   ]
  },
  {
   "cell_type": "code",
   "execution_count": 339,
   "metadata": {},
   "outputs": [
    {
     "data": {
      "text/plain": [
       "{'val_loss': 2.256542921066284}"
      ]
     },
     "execution_count": 339,
     "metadata": {},
     "output_type": "execute_result"
    }
   ],
   "source": [
    "result = evaluate(model, val_loader_p)\n",
    "result"
   ]
  },
  {
   "cell_type": "code",
   "execution_count": 340,
   "metadata": {},
   "outputs": [
    {
     "name": "stdout",
     "output_type": "stream",
     "text": [
      "Epoch [0], train_loss: 162.9697, val_loss: 172.9539\n",
      "Epoch [50], train_loss: 6.7063, val_loss: 1.4723\n",
      "Epoch [100], train_loss: 3.9066, val_loss: 1.3186\n",
      "Epoch [150], train_loss: 3.0019, val_loss: 1.2835\n",
      "Epoch [200], train_loss: 2.5627, val_loss: 1.4228\n",
      "Epoch [250], train_loss: 2.3423, val_loss: 1.4785\n",
      "Epoch [300], train_loss: 2.1973, val_loss: 1.2896\n",
      "Epoch [350], train_loss: 2.0845, val_loss: 1.8810\n",
      "Epoch [400], train_loss: 1.9920, val_loss: 1.8699\n",
      "Epoch [450], train_loss: 1.9229, val_loss: 1.2987\n"
     ]
    }
   ],
   "source": [
    "history2 = fit(500, 0.01, model, train_loader_p, val_loader_p)"
   ]
  },
  {
   "cell_type": "markdown",
   "metadata": {},
   "source": [
    "Plot Training gragh of Phosphorous"
   ]
  },
  {
   "cell_type": "code",
   "execution_count": 342,
   "metadata": {},
   "outputs": [
    {
     "data": {
      "image/png": "[encoded data removed]",
      "text/plain": [
       "<Figure size 432x288 with 1 Axes>"
      ]
     },
     "metadata": {
      "needs_background": "light"
     },
     "output_type": "display_data"
    }
   ],
   "source": [
    "losses = [r['val_loss'] for r in [result]+ history2]\n",
    "plt.plot(losses, '-x')\n",
    "plt.xlabel('epoch')\n",
    "plt.ylabel('val_loss')\n",
    "plt.title('val_loss vs. epochs');"
   ]
  },
  {
   "cell_type": "markdown",
   "metadata": {},
   "source": [
    "Start training model to predict pH Level quantity contained in the given samples"
   ]
  },
  {
   "cell_type": "code",
   "execution_count": 343,
   "metadata": {},
   "outputs": [
    {
     "data": {
      "text/plain": [
       "{'val_loss': 0.7571859359741211}"
      ]
     },
     "execution_count": 343,
     "metadata": {},
     "output_type": "execute_result"
    }
   ],
   "source": [
    "result = evaluate(model, val_loader_ph)\n",
    "result"
   ]
  },
  {
   "cell_type": "code",
   "execution_count": 344,
   "metadata": {},
   "outputs": [
    {
     "name": "stdout",
     "output_type": "stream",
     "text": [
      "Epoch [0], train_loss: 173.0943, val_loss: 159.9278\n",
      "Epoch [50], train_loss: 5.9891, val_loss: 0.2850\n",
      "Epoch [100], train_loss: 3.1419, val_loss: 0.2712\n",
      "Epoch [150], train_loss: 2.1753, val_loss: 0.2995\n",
      "Epoch [200], train_loss: 1.7046, val_loss: 0.4011\n",
      "Epoch [250], train_loss: 1.4664, val_loss: 0.7543\n",
      "Epoch [300], train_loss: 1.3383, val_loss: 0.5425\n",
      "Epoch [350], train_loss: 1.2437, val_loss: 0.7659\n",
      "Epoch [400], train_loss: 1.1722, val_loss: 0.5639\n",
      "Epoch [450], train_loss: 1.1255, val_loss: 0.2704\n",
      "Epoch [500], train_loss: 1.0691, val_loss: 1.1358\n",
      "Epoch [550], train_loss: 1.0298, val_loss: 0.8012\n",
      "Epoch [600], train_loss: 0.9961, val_loss: 0.2436\n",
      "Epoch [650], train_loss: 0.9713, val_loss: 0.4475\n",
      "Epoch [700], train_loss: 0.9514, val_loss: 0.5652\n",
      "Epoch [750], train_loss: 0.9311, val_loss: 0.3378\n"
     ]
    }
   ],
   "source": [
    "history = fit(800, 0.01, model, train_loader_ph, val_loader_ph)"
   ]
  },
  {
   "cell_type": "code",
   "execution_count": 345,
   "metadata": {},
   "outputs": [
    {
     "data": {
      "text/plain": [
       "{'val_loss': 0.48415300250053406}"
      ]
     },
     "execution_count": 345,
     "metadata": {},
     "output_type": "execute_result"
    }
   ],
   "source": [
    "result = evaluate(model, val_loader_ph)\n",
    "result"
   ]
  },
  {
   "cell_type": "code",
   "execution_count": 346,
   "metadata": {},
   "outputs": [
    {
     "data": {
      "image/png": "[encoded data removed]",
      "text/plain": [
       "<Figure size 432x288 with 1 Axes>"
      ]
     },
     "metadata": {
      "needs_background": "light"
     },
     "output_type": "display_data"
    }
   ],
   "source": [
    "losses = [r['val_loss'] for r in [result]+ history]\n",
    "plt.plot(losses, '-x')\n",
    "plt.xlabel('epoch')\n",
    "plt.ylabel('val_loss')\n",
    "plt.title('val_loss vs. epochs');"
   ]
  },
  {
   "cell_type": "markdown",
   "metadata": {},
   "source": [
    "save notebook to jovian"
   ]
  },
  {
   "cell_type": "code",
   "execution_count": 347,
   "metadata": {},
   "outputs": [],
   "source": [
    "project_name = 'Soil Fertility Prediction By Janvier'"
   ]
  },
  {
   "cell_type": "code",
   "execution_count": 349,
   "metadata": {},
   "outputs": [
    {
     "data": {
      "application/javascript": [
       "window.require && require([\"base/js/namespace\"],function(Jupyter){Jupyter.notebook.save_checkpoint()})"
      ],
      "text/plain": [
       "<IPython.core.display.Javascript object>"
      ]
     },
     "metadata": {},
     "output_type": "display_data"
    },
    {
     "name": "stdout",
     "output_type": "stream",
     "text": [
      "[jovian] Attempting to save notebook..\n",
      "[jovian] Updating notebook \"njanvier/soil-fertility-prediction-by-janvier\" on https://jovian.ml/\n",
      "[jovian] Uploading notebook..\n",
      "[jovian] Capturing environment..\n",
      "[jovian] Committed successfully! https://jovian.ml/njanvier/soil-fertility-prediction-by-janvier\n"
     ]
    },
    {
     "data": {
      "text/plain": [
       "'https://jovian.ml/njanvier/soil-fertility-prediction-by-janvier'"
      ]
     },
     "execution_count": 349,
     "metadata": {},
     "output_type": "execute_result"
    }
   ],
   "source": [
    "jovian.commit(project=project_name)"
   ]
  },
  {
   "cell_type": "code",
   "execution_count": null,
   "metadata": {},
   "outputs": [],
   "source": []
  }
 ],
 "metadata": {
  "kernelspec": {
   "display_name": "Python 3",
   "language": "python",
   "name": "python3"
  },
  "language_info": {
   "codemirror_mode": {
    "name": "ipython",
    "version": 3
   },
   "file_extension": ".py",
   "mimetype": "text/x-python",
   "name": "python",
   "nbconvert_exporter": "python",
   "pygments_lexer": "ipython3",
   "version": "3.7.7"
  }
 },
 "nbformat": 4,
 "nbformat_minor": 4
}
